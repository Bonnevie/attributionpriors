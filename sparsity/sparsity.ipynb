{
 "cells": [
  {
   "cell_type": "markdown",
   "metadata": {},
   "source": [
    "# Sparse Attribution Prior\n",
    "This notebook demonstrates how the sparse attribution prior can build sparser models that exhibit better performance when training data is limited."
   ]
  },
  {
   "cell_type": "code",
   "execution_count": 1,
   "metadata": {},
   "outputs": [],
   "source": [
    "# Constants\n",
    "RUN=54321  # Sets random seed\n",
    "GRIDSIZE=131  # Fineness of hyperparameter search\n",
    "n=100  # Number of models to train with best hyperparameters"
   ]
  },
  {
   "cell_type": "code",
   "execution_count": 2,
   "metadata": {},
   "outputs": [
    {
     "name": "stderr",
     "output_type": "stream",
     "text": [
      "/usr/lib/python2.7/dist-packages/h5py/__init__.py:36: FutureWarning: Conversion of the second argument of issubdtype from `float` to `np.floating` is deprecated. In future, it will be treated as `np.float64 == np.dtype(float).type`.\n",
      "  from ._conv import register_converters as _register_converters\n"
     ]
    }
   ],
   "source": [
    "import os, sys\n",
    "os.environ[\"CUDA_DEVICE_ORDER\"]=\"PCI_BUS_ID\"   # see issue #152\n",
    "os.environ[\"CUDA_VISIBLE_DEVICES\"]=str(3)\n",
    "\n",
    "import tensorflow as tf\n",
    "import numpy as np\n",
    "import pandas as pd\n",
    "import matplotlib.pyplot as plt\n",
    "import seaborn as sns; sns.set_style(\"whitegrid\",{'grid.color':'.95'})\n",
    "import scipy.stats as stats\n",
    "import itertools\n",
    "from tqdm import tqdm_notebook as tqdm\n",
    "\n",
    "from sklearn.model_selection import train_test_split\n",
    "from sklearn.preprocessing import Imputer, StandardScaler\n",
    "from sklearn.metrics import r2_score, roc_auc_score, log_loss\n",
    "\n",
    "# Import the ops object that implements sparse attribution priors\n",
    "from attributionpriors.ops import AttributionPriorExplainer"
   ]
  },
  {
   "cell_type": "markdown",
   "metadata": {},
   "source": [
    "## Data\n",
    "The data for these experiments comes from the NHANES I study, which measured a wide array of physiological data (113 variables after one-hot encoding) in 13,000 patients, as well as various outcomes 10 years later. We demonstrate the effectiveness of sparse models by testing their ability to learn from extremely limited training data -- in this case, only 100 training and 100 validation patients."
   ]
  },
  {
   "cell_type": "code",
   "execution_count": 3,
   "metadata": {},
   "outputs": [
    {
     "name": "stderr",
     "output_type": "stream",
     "text": [
      "/home/erion/.local/lib/python2.7/site-packages/sklearn/utils/deprecation.py:58: DeprecationWarning: Class Imputer is deprecated; Imputer was deprecated in version 0.20 and will be removed in 0.22. Import impute.SimpleImputer from sklearn instead.\n",
      "  warnings.warn(msg, category=DeprecationWarning)\n"
     ]
    }
   ],
   "source": [
    "# Load Data\n",
    "X = pd.read_csv(\"X_sparsity.csv\")#np.random.randn(10000,10)#\n",
    "y = np.load(\"y_sparsity.npy\").astype(np.int32)#X[:,1]**2+X[:,5]>0.9#\n",
    "\n",
    "# Train/valid/test split\n",
    "Xtv,Xtest, ytv, ytest = train_test_split(X,y,random_state=200)\n",
    "Xtrain, Xvalid, ytrain, yvalid = train_test_split(Xtv,ytv,random_state=100)\n",
    "\n",
    "\n",
    "# Set random seed for numpy and tf\n",
    "np.random.seed(RUN)\n",
    "tf.set_random_seed(RUN)\n",
    "\n",
    "# subsample train and validation data\n",
    "train_inds = np.random.choice(ytrain.shape[0],100)\n",
    "valid_inds = np.random.choice(yvalid.shape[0],100)\n",
    "Xtrain, ytrain = Xtrain.iloc[train_inds], ytrain[train_inds]\n",
    "Xvalid, yvalid = Xvalid.iloc[valid_inds], yvalid[valid_inds]\n",
    "\n",
    "# Mean-impute, standardize, and winsorize the data\n",
    "imp = Imputer()\n",
    "ss = StandardScaler()\n",
    "Xtrain_imp = imp.fit_transform(Xtrain)\n",
    "Xvalid_imp = imp.transform(Xvalid)\n",
    "Xtest_imp = imp.transform(Xtest)\n",
    "Xtrain_ss = ss.fit_transform(Xtrain_imp)\n",
    "Xvalid_ss = ss.transform(Xvalid_imp)\n",
    "Xtest_ss = ss.transform(Xtest_imp)\n",
    "Xtrain_ss = np.clip(Xtrain_ss,-3,3)\n",
    "Xvalid_ss = np.clip(Xvalid_ss,-3,3)\n",
    "Xtest_ss = np.clip(Xtest_ss,-3,3)\n",
    "\n",
    "# Set aside test data\n",
    "Xtest_holdout = Xtest_ss\n",
    "Xtest_ss = Xvalid_ss\n",
    "ytest_holdout = ytest\n",
    "ytest = yvalid\n",
    "\n",
    "# d = # features\n",
    "d = X.shape[1]\n"
   ]
  },
  {
   "cell_type": "code",
   "execution_count": 4,
   "metadata": {},
   "outputs": [],
   "source": [
    "# Dataset API\n",
    "def make_dataset(X, Y, batch_size, shuffle=True, buffer_size=100):\n",
    "    dataset = tf.data.Dataset.from_tensor_slices((X, Y))\n",
    "    if shuffle:\n",
    "        dataset = dataset.shuffle(buffer_size)\n",
    "    dataset = dataset.batch(batch_size)\n",
    "    return dataset\n",
    "\n",
    "# Set up config and session\n",
    "config = tf.ConfigProto()\n",
    "config.gpu_options.allow_growth=True\n",
    "sess = tf.Session(config=config)\n",
    "\n",
    "# Float64\n",
    "dtype = tf.float64\n",
    "\n",
    "# Batch size 100 (all training data), 50 references per batch\n",
    "references_per_batch, dset_batch_size = 50,100\n",
    "train_set = make_dataset(Xtrain_ss,np.vstack((ytrain,1-ytrain)).T.astype(np.float64),batch_size=dset_batch_size,shuffle=True,buffer_size=800)\n",
    "train_set = train_set.repeat()\n",
    "valid_set = make_dataset(Xvalid_ss,np.vstack((yvalid,1-yvalid)).T.astype(np.float64),batch_size=Xvalid_ss.shape[0],shuffle=True)\n",
    "test_set = make_dataset(Xtest_ss,np.vstack((ytest,1-ytest)).T.astype(np.float64),batch_size=Xtest_ss.shape[0],shuffle=False)\n",
    "\n",
    "# Train set with label all ones, for explaining risk of positive label\n",
    "ones_set = make_dataset(Xtrain_ss, np.vstack((np.ones_like(ytrain),np.zeros_like(ytrain))).T.astype(np.float64), batch_size=dset_batch_size, shuffle=True, buffer_size=800)\n",
    "ones_set = ones_set.repeat()\n",
    "\n",
    "# Get dataset handle\n",
    "handle = tf.placeholder(tf.string, shape=[])\n",
    "iterator = tf.data.Iterator.from_string_handle(\n",
    "    handle, train_set.output_types, train_set.output_shapes)\n",
    "x_pl, y_true = iterator.get_next()\n",
    "\n",
    "# Iterators\n",
    "train_iter = train_set.make_initializable_iterator()\n",
    "valid_iter  = valid_set.make_initializable_iterator()\n",
    "test_iter  = test_set.make_initializable_iterator()\n",
    "ones_iter = ones_set.make_initializable_iterator()\n",
    "train_handle = sess.run(train_iter.string_handle())\n",
    "valid_handle  = sess.run(valid_iter.string_handle())\n",
    "test_handle  = sess.run(test_iter.string_handle())\n",
    "ones_handle  = sess.run(ones_iter.string_handle())\n",
    "\n",
    "# Reference dataset and iterators\n",
    "ref_ss = Xtrain_ss#np.zeros_like(Xtrain_ss)\n",
    "reference_dataset = tf.data.Dataset.from_tensor_slices((np.repeat(ref_ss,references_per_batch,axis=0)))\n",
    "reference_dataset = reference_dataset.shuffle(1000)\n",
    "reference_dataset = reference_dataset.batch(dset_batch_size * references_per_batch)\n",
    "reference_dataset = reference_dataset.repeat()\n",
    "reference_iter    = reference_dataset.make_one_shot_iterator()\n",
    "background_batch = reference_iter.get_next()\n",
    "background_reference_op = tf.reshape(background_batch, [-1, references_per_batch, d])\n",
    "\n",
    "# Shorthand for useful ops\n",
    "X, y, R = x_pl, y_true, background_reference_op\n",
    "\n",
    "# Macros for indices into results tuple\n",
    "PRED, EG, COST, OPT, EGOPT, EGFLAG, EXPLAINER, EGLMBD, L1LMBD, DROPLMBD = range(10)\n"
   ]
  },
  {
   "cell_type": "markdown",
   "metadata": {},
   "source": [
    "## Models\n",
    "We train 3 different types of feedforward neural networks, all with the same architecture and activations:\n",
    "* `sglmodel` trains a sparse group  on the input layer of the network as in [Scardapane et al (2016)](https://arxiv.org/pdf/1607.00485.pdf).\n",
    "* `l1model` trains a model with an L1 penalty on all layers.\n",
    "* `egmodel` trains a model using our sparse attribution prior."
   ]
  },
  {
   "cell_type": "code",
   "execution_count": 5,
   "metadata": {},
   "outputs": [],
   "source": [
    "# Models\n",
    "def sglmodel(X,R,layers=[512],eg=None,l1=None,dropout=None):\n",
    "    layers = [l for l in layers]\n",
    "    eg_strength = eg if eg else 0.0\n",
    "    l1_strength = tf.constant(l1,dtype=tf.float64) if l1 else tf.constant(0.0,dtype=tf.float64)\n",
    "    dropout_strength = dropout if dropout else 0.0\n",
    "    \n",
    "    explainer = AttributionPriorExplainer()\n",
    "    cond_input_op, train_eg = explainer.input_to_samples_delta(X,lambda: R)\n",
    "    if len(layers)>0:\n",
    "        firstlayer = layers.pop(0)\n",
    "        hid_layer = tf.layers.Dense(firstlayer,activation=tf.nn.relu)\n",
    "        hid = hid_layer(cond_input_op)\n",
    "        if dropout: hid = tf.nn.dropout(hid,keep_prob=1-dropout_strength)\n",
    "        kernel = hid_layer.kernel\n",
    "        for l in layers:\n",
    "            hid = tf.layers.Dense(l,activation=tf.nn.relu)(hid)\n",
    "            if dropout: hid = tf.nn.dropout(hid,keep_prob=1-dropout_strength)\n",
    "        output = tf.layers.Dense(2)(hid)\n",
    "\n",
    "    else:\n",
    "        output_layer = tf.layers.Dense(2)\n",
    "        output = output_layer(cond_input_op)\n",
    "        kernel = output_layer.kernel\n",
    "    \n",
    "    \n",
    "    y_pred = tf.nn.sigmoid(output)#model(cond_input_op)\n",
    "    eg_op = explainer.shap_value_op(y_pred, cond_input_op, y[:,1])\n",
    "    \n",
    "    cost = tf.nn.sigmoid_cross_entropy_with_logits(logits=y_pred,labels=y)\n",
    "    total_cost = tf.reduce_mean(cost)\n",
    "    optimizer = tf.train.GradientDescentOptimizer(learning_rate=1.0).minimize(total_cost)\n",
    "    \n",
    "    l1_ind = tf.reduce_sum(tf.abs(kernel)) \n",
    "    l1_group = tf.reduce_sum(tf.norm(kernel,axis=0))*tf.sqrt(tf.cast(kernel.shape[0],tf.float64))\n",
    "    l1_reg = (l1_ind + l1_group)* l1_strength\n",
    "        \n",
    "    weighted_abs_loss = tf.reshape(tf.reduce_mean(tf.abs(tf.cast(eg_op,tf.float32)),axis=0),(1,-1))\n",
    "    mad_loss = tf.abs(tf.transpose(weighted_abs_loss)-weighted_abs_loss)\n",
    "    rmad_loss = tf.reduce_mean(mad_loss)/tf.reduce_mean(weighted_abs_loss)\n",
    "    \n",
    "    reg_lambda = tf.constant(eg_strength,dtype=tf.float32)\n",
    "    reg_loss_op = -rmad_loss * reg_lambda\n",
    "    reg_loss_op = reg_loss_op + tf.cast(l1_reg,dtype=tf.float32)\n",
    "\n",
    "    train_eg_op = tf.train.GradientDescentOptimizer(learning_rate=1.0).minimize(reg_loss_op)\n",
    "    return (y_pred, eg_op, total_cost, optimizer, train_eg_op, train_eg, explainer, reg_lambda, l1_strength)\n",
    "\n",
    "def l1model(X,R,layers=[512],eg=None,l1=None,dropout=None):\n",
    "    layers = [l for l in layers]\n",
    "    eg_strength = eg if eg else 0.0\n",
    "    l1_strength = tf.constant(l1,dtype=tf.float64) if l1 else tf.constant(0.0,dtype=tf.float64)\n",
    "    dropout_strength = dropout if dropout else 0.0\n",
    "    \n",
    "    explainer = AttributionPriorExplainer()\n",
    "    cond_input_op, train_eg = explainer.input_to_samples_delta(X,lambda: R)\n",
    "    \n",
    "    kernels = []\n",
    "    if len(layers)>0:\n",
    "        firstlayer = layers.pop(0)\n",
    "        hid_layer = tf.layers.Dense(firstlayer,activation=tf.nn.relu)\n",
    "        hid = hid_layer(cond_input_op)\n",
    "        if dropout: hid = tf.nn.dropout(hid,keep_prob=1-dropout_strength)\n",
    "        kernel = hid_layer.kernel\n",
    "        kernels.append(kernel)\n",
    "        for l in layers:\n",
    "            nextlayer = tf.layers.Dense(l,activation=tf.nn.relu)\n",
    "            hid = nextlayer(hid)\n",
    "            kernel = nextlayer.kernel\n",
    "            kernels.append(kernel)\n",
    "            if dropout: hid = tf.nn.dropout(hid,keep_prob=1-dropout_strength)\n",
    "        output = tf.layers.Dense(2)(hid)\n",
    "\n",
    "    else:\n",
    "        output_layer = tf.layers.Dense(2)\n",
    "        output = output_layer(cond_input_op)\n",
    "        kernel = output_layer.kernel\n",
    "        kernels.append(kernel)\n",
    "    \n",
    "    \n",
    "    y_pred = tf.nn.sigmoid(output)#model(cond_input_op)\n",
    "    eg_op = explainer.shap_value_op(y_pred, cond_input_op, y[:,1])\n",
    "    \n",
    "    cost = tf.nn.sigmoid_cross_entropy_with_logits(logits=y_pred,labels=y)\n",
    "    total_cost = tf.reduce_mean(cost)\n",
    "    optimizer = tf.train.GradientDescentOptimizer(learning_rate=1.0).minimize(total_cost)\n",
    "    \n",
    "    kernel_norms = tf.stack([tf.reduce_sum(tf.abs(k)) for k in kernels])\n",
    "    l1_reg = (((tf.reduce_sum(kernel_norms)))/np.sum([np.prod(k.shape).value for k in kernels])) * l1_strength \n",
    "        \n",
    "    weighted_abs_loss = tf.reshape(tf.reduce_mean(tf.abs(tf.cast(eg_op,tf.float32)),axis=0),(1,-1))\n",
    "    mad_loss = tf.abs(tf.transpose(weighted_abs_loss)-weighted_abs_loss)\n",
    "    rmad_loss = tf.reduce_mean(mad_loss)/tf.reduce_mean(weighted_abs_loss)\n",
    "    \n",
    "    reg_lambda = tf.constant(eg_strength,dtype=tf.float32)\n",
    "    reg_loss_op = -rmad_loss * reg_lambda\n",
    "    reg_loss_op = reg_loss_op + tf.cast(l1_reg,dtype=tf.float32)\n",
    "\n",
    "    train_eg_op = tf.train.GradientDescentOptimizer(learning_rate=1.0).minimize(reg_loss_op)\n",
    "    return (y_pred, eg_op, total_cost, optimizer, train_eg_op, train_eg, explainer, reg_lambda, l1_strength)   \n",
    "\n",
    "def egmodel(X,R,layers=[512],eg=None,l1=None,dropout=None):\n",
    "    layers = [l for l in layers]\n",
    "    eg_strength = eg if eg else 0.0\n",
    "    l1_strength = tf.constant(l1,dtype=tf.float32) if l1 else tf.constant(0.0,dtype=tf.float32)\n",
    "    dropout_strength = dropout if dropout else 0.0\n",
    "    \n",
    "    explainer = AttributionPriorExplainer()\n",
    "    cond_input_op, train_eg = explainer.input_to_samples_delta(X,lambda: R)\n",
    "    if len(layers)>0:\n",
    "        firstlayer = layers.pop(0)\n",
    "        hid_layer = tf.layers.Dense(firstlayer,activation=tf.nn.relu)\n",
    "        hid = hid_layer(cond_input_op)\n",
    "        if dropout: hid = tf.nn.dropout(hid,keep_prob=1-dropout_strength)\n",
    "        for l in layers:\n",
    "            hid = tf.layers.Dense(l,activation=tf.nn.relu)(hid)\n",
    "            if dropout: hid = tf.nn.dropout(hid,keep_prob=1-dropout_strength)\n",
    "        output = tf.layers.Dense(2)(hid)\n",
    "\n",
    "    else:\n",
    "        output_layer = tf.layers.Dense(2)\n",
    "        output = output_layer(cond_input_op)\n",
    "    y_pred = tf.nn.sigmoid(output)#model(cond_input_op)\n",
    "    eg_op = explainer.shap_value_op(y_pred, cond_input_op, y[:,1])\n",
    "    \n",
    "    cost = tf.nn.sigmoid_cross_entropy_with_logits(logits=y_pred,labels=y)\n",
    "    total_cost = tf.reduce_mean(cost)\n",
    "    optimizer = tf.train.GradientDescentOptimizer(learning_rate=1.0).minimize(total_cost)\n",
    "    \n",
    "    abs_eg = tf.abs(tf.cast(eg_op,tf.float32))\n",
    "    \n",
    "    l1_reg = tf.reduce_mean(abs_eg) * l1_strength\n",
    "    \n",
    "    weighted_abs_loss = tf.reshape(tf.reduce_mean(abs_eg,axis=0),(1,-1))\n",
    "    mad_loss = tf.abs(tf.transpose(weighted_abs_loss)-weighted_abs_loss)\n",
    "    rmad_loss = tf.reduce_mean(mad_loss)/tf.reduce_mean(weighted_abs_loss)\n",
    "    \n",
    "    reg_lambda = tf.constant(eg_strength,dtype=tf.float32)\n",
    "    reg_loss_op = -rmad_loss * reg_lambda\n",
    "    reg_loss_op = reg_loss_op + tf.cast(l1_reg,dtype=tf.float32)\n",
    "\n",
    "    train_eg_op = tf.train.GradientDescentOptimizer(learning_rate=1.0).minimize(reg_loss_op)\n",
    "    return (y_pred, eg_op, total_cost, optimizer, train_eg_op, train_eg, explainer, reg_lambda, l1_strength) "
   ]
  },
  {
   "cell_type": "markdown",
   "metadata": {},
   "source": [
    "## Training\n",
    "We train with alternating minimization, where we minimize the loss, then the regularization penalty, then the loss, and so on."
   ]
  },
  {
   "cell_type": "code",
   "execution_count": 6,
   "metadata": {},
   "outputs": [],
   "source": [
    "# Training and utility functions\n",
    "def train(y_pred, eg_op, total_cost, optimizer, train_eg_op, train_eg, explainer, reg_lambda, l1_strength,\n",
    "          egstrength=0.0,l1strength=0.0,sess=sess,rounds=1000,iterator=list):\n",
    "    i = 0\n",
    "    for i in iterator(range(rounds)):\n",
    "        loss, _ = sess.run([total_cost, optimizer], feed_dict={handle:train_handle,reg_lambda:egstrength,l1_strength:l1strength})\n",
    "        loss = 0.0\n",
    "        _, eg = sess.run([train_eg_op, eg_op], feed_dict={handle: ones_handle, train_eg: True,reg_lambda:egstrength,l1_strength:l1strength})\n",
    "\n",
    "MROC, MXENT, MGINI, MSHAP, MPRED, MDATA = range(6)\n",
    "def train_until(m,params,sess=sess,rounds=1000,iterator=list):\n",
    "    failed = 1\n",
    "    mt = m\n",
    "    for i in range(10):\n",
    "        if not failed: break\n",
    "        try:\n",
    "            sess.run(tf.global_variables_initializer())\n",
    "            sess.run(train_iter.initializer)\n",
    "            sess.run(ones_iter.initializer)\n",
    "            train(*m,rounds=rounds,iterator=iterator,**params)\n",
    "            r = test_score(*mt)\n",
    "            s,d = get_train_shaps(*mt)\n",
    "            x = test_xent(*mt)\n",
    "            g = shap_gini(s)\n",
    "            p = test_pred(*mt)\n",
    "            failed = 0\n",
    "            return (r,x,g,s,p,d)\n",
    "        except ValueError:\n",
    "            pass #return None\n",
    "    return None\n",
    "        \n",
    "def fastpredict(truth,output,X,sess=sess):\n",
    "    return sess.run(output,feed_dict={x_pl:X,y:np.vstack((truth,1-truth)).T})\n",
    "predict=fastpredict\n",
    "\n",
    "def get_train_shaps(y_pred, eg_op, total_cost, optimizer, train_eg_op, train_eg, explainer,*args):\n",
    "    eg = []\n",
    "    batch_input = []\n",
    "    for j in range(int(Xtrain_ss.shape[0]/dset_batch_size)):\n",
    "        eg_j, batch_input_j, sparse_labels, pred_labels = sess.run([eg_op, x_pl, y_true, y_pred], feed_dict={handle: ones_handle, train_eg: True})\n",
    "        eg.append(eg_j)\n",
    "        batch_input.append(batch_input_j)\n",
    "    eg_shaps = np.vstack(eg)\n",
    "    eg_X = np.vstack(batch_input)\n",
    "    return eg_shaps, eg_X\n",
    "\n",
    "def test_pred(y_pred, eg_op, total_cost, optimizer, train_eg_op, train_eg, explainer,*args):\n",
    "    testpreds = predict(ytest,y_pred,Xtest_ss)\n",
    "    return testpreds[:,0]\n",
    "\n",
    "\n",
    "def test_xent(y_pred, eg_op, total_cost, optimizer, train_eg_op, train_eg, explainer,*args):\n",
    "    testpreds = predict(ytest,y_pred,Xtest_ss)\n",
    "    return log_loss(ytest,testpreds[:,0])\n",
    "\n",
    "def test_score(y_pred, eg_op, total_cost, optimizer, train_eg_op, train_eg, explainer,*args):\n",
    "    testpreds = predict(ytest,y_pred,Xtest_ss)\n",
    "    return roc_auc_score(ytest,testpreds[:,0])\n",
    "def gini(x):\n",
    "    mad = np.abs(np.subtract.outer(x, x)).mean()\n",
    "    rmad = mad/np.mean(x)\n",
    "    g = 0.5 * rmad\n",
    "    return g\n",
    "def shap_gini(shaps):\n",
    "    gshaps = np.mean(np.abs(shaps),axis=0)\n",
    "    return gini(gshaps)\n",
    "def shap_cdf_plot(shaps,**kwargs):\n",
    "    gshaps = np.mean(np.abs(shaps),axis=0)\n",
    "    oshaps = np.sort(gshaps)\n",
    "    df = np.cumsum(oshaps.astype('float64'))/np.sum(oshaps).astype('float64')\n",
    "    plt.step(np.arange(oshaps.shape[0]),df,**kwargs)"
   ]
  },
  {
   "cell_type": "markdown",
   "metadata": {},
   "source": [
    "## Hyperparameter search\n",
    "We search a wide range of penalty strengths for the SGL, L1, and Sparse Attribution Prior models, scoring them on validation data."
   ]
  },
  {
   "cell_type": "code",
   "execution_count": 7,
   "metadata": {},
   "outputs": [
    {
     "name": "stdout",
     "output_type": "stream",
     "text": [
      "Warning: value `1` of parameter k will be ignored because background_ref_op was callable\n"
     ]
    },
    {
     "name": "stderr",
     "output_type": "stream",
     "text": [
      "100%|██████████| 131/131 [06:41<00:00, 12.40s/it]\n"
     ]
    },
    {
     "name": "stdout",
     "output_type": "stream",
     "text": [
      "Warning: value `1` of parameter k will be ignored because background_ref_op was callable\n"
     ]
    },
    {
     "name": "stderr",
     "output_type": "stream",
     "text": [
      "100%|██████████| 131/131 [05:56<00:00,  7.39s/it]\n"
     ]
    },
    {
     "name": "stdout",
     "output_type": "stream",
     "text": [
      "Warning: value `1` of parameter k will be ignored because background_ref_op was callable\n"
     ]
    },
    {
     "name": "stderr",
     "output_type": "stream",
     "text": [
      "100%|██████████| 131/131 [02:51<00:00,  1.36s/it]\n"
     ]
    }
   ],
   "source": [
    "# Range of architectures/penalties to search\n",
    "architectures = [[512,128,32]]\n",
    "l1_penalties = np.logspace(-10,3,GRIDSIZE)#np.logspace(1,3,21)#np.logspace(-10,3,14)\n",
    "eg_penalties = np.logspace(-10,3,GRIDSIZE)#np.logspace(-2,0,21)#np.logspace(-10,3,14)\n",
    "sgl_penalties = np.logspace(-10,3,GRIDSIZE)#[]#np.logspace(-3,0,31)#np.logspace(-10,3,14)\n",
    "\n",
    "l1_params = [(a,lmbd) for a in architectures for lmbd in (l1_penalties)]\n",
    "eg_params = [(a,lmbd) for a in architectures for lmbd in (eg_penalties)]\n",
    "sgl_params = [(a,lmbd) for a in architectures for lmbd in (sgl_penalties)]\n",
    "\n",
    "eg_results = []\n",
    "m = egmodel(X,R,[512,128,32])\n",
    "for a,eg in tqdm(eg_params):\n",
    "    t = train_until(m,{'egstrength':eg},rounds=20)\n",
    "    eg_results.append((t))\n",
    "sgl_results = []\n",
    "m = sglmodel(X,R,[512,128,32])\n",
    "for a,l1 in tqdm(sgl_params):\n",
    "    t = train_until(m,{'l1strength':l1},rounds=20)\n",
    "    sgl_results.append((t))\n",
    "l1_results = []\n",
    "m = l1model(X,R,[512,128,32])\n",
    "for a,l1 in tqdm(l1_params):\n",
    "    t = train_until(m,{'l1strength':l1},rounds=20)\n",
    "    l1_results.append((t))\n",
    "\n",
    "eg_scores = np.array([t[MROC] if t is not None else float('nan') for t in eg_results])\n",
    "eg_ind=np.where(eg_scores==np.nanmax(eg_scores))[0][0]\n",
    "sgl_scores = np.array([t[MROC] if t is not None else float('nan') for t in sgl_results])\n",
    "sgl_ind=np.where(sgl_scores==np.nanmax(sgl_scores))[0][0]\n",
    "l1_scores = np.array([t[MROC] if t is not None else float('nan') for t in l1_results])\n",
    "l1_ind=np.where(l1_scores==np.nanmax(l1_scores))[0][0]\n"
   ]
  },
  {
   "cell_type": "markdown",
   "metadata": {},
   "source": [
    "## Final models\n",
    "We train 100 more models using the best parameters found in the hyperparameter search"
   ]
  },
  {
   "cell_type": "code",
   "execution_count": 8,
   "metadata": {},
   "outputs": [
    {
     "name": "stdout",
     "output_type": "stream",
     "text": [
      "Warning: value `1` of parameter k will be ignored because background_ref_op was callable\n"
     ]
    },
    {
     "name": "stderr",
     "output_type": "stream",
     "text": [
      "100%|██████████| 100/100 [02:20<00:00,  1.41s/it]\n"
     ]
    },
    {
     "name": "stdout",
     "output_type": "stream",
     "text": [
      "Warning: value `1` of parameter k will be ignored because background_ref_op was callable\n"
     ]
    },
    {
     "name": "stderr",
     "output_type": "stream",
     "text": [
      "100%|██████████| 100/100 [02:23<00:00,  1.42s/it]\n"
     ]
    },
    {
     "name": "stdout",
     "output_type": "stream",
     "text": [
      "Warning: value `1` of parameter k will be ignored because background_ref_op was callable\n"
     ]
    },
    {
     "name": "stderr",
     "output_type": "stream",
     "text": [
      "100%|██████████| 100/100 [02:23<00:00,  1.42s/it]\n"
     ]
    },
    {
     "name": "stdout",
     "output_type": "stream",
     "text": [
      "Warning: value `1` of parameter k will be ignored because background_ref_op was callable\n"
     ]
    },
    {
     "name": "stderr",
     "output_type": "stream",
     "text": [
      "100%|██████████| 100/100 [02:24<00:00,  1.47s/it]\n"
     ]
    }
   ],
   "source": [
    "# Train models\n",
    "eg_final_models=[]\n",
    "eg_final_preds=[]\n",
    "m = egmodel(X,R,[512,128,32])\n",
    "for a,eg in tqdm(itertools.repeat(eg_params[eg_ind],n),total=n):\n",
    "    t = train_until(m,{'egstrength':eg},rounds=20)\n",
    "    eg_final_models.append((t))\n",
    "    eg_final_preds.append(fastpredict(ytest_holdout,m[0],Xtest_holdout))\n",
    "\n",
    "l1_final_models=[]\n",
    "l1_final_preds=[]\n",
    "m = l1model(X,R,[512,128,32])\n",
    "for a,l1 in tqdm(itertools.repeat(l1_params[l1_ind],n),total=n):\n",
    "    t = train_until(m,{'l1strength':l1},rounds=20)\n",
    "    l1_final_models.append((t))\n",
    "    l1_final_preds.append(fastpredict(ytest_holdout,m[0],Xtest_holdout))\n",
    "\n",
    "sgl_final_models=[]\n",
    "sgl_final_preds=[]\n",
    "m = sglmodel(X,R,[512,128,32])\n",
    "for a,l1 in tqdm(itertools.repeat(sgl_params[sgl_ind],n),total=n):\n",
    "    t = train_until(m,{'l1strength':l1},rounds=20)\n",
    "    sgl_final_models.append((t))\n",
    "    sgl_final_preds.append(fastpredict(ytest_holdout,m[0],Xtest_holdout))\n",
    "\n",
    "un_final_models=[]\n",
    "un_final_preds=[]\n",
    "m = l1model(X,R,[512,128,32])\n",
    "for a in tqdm(range(n)):\n",
    "    t = train_until(m,{},rounds=20)\n",
    "    un_final_models.append((t))\n",
    "    un_final_preds.append(fastpredict(ytest_holdout,m[0],Xtest_holdout))"
   ]
  },
  {
   "cell_type": "markdown",
   "metadata": {},
   "source": [
    "## Final evaluation\n",
    "For the top 10 models of each type by validation score, we obtain final test performance on over 2000 test patients. Performance is evaluated by area under an ROC curve."
   ]
  },
  {
   "cell_type": "code",
   "execution_count": 9,
   "metadata": {},
   "outputs": [],
   "source": [
    "# Evaluate methods\n",
    "methods = ['gini','l1','sgl','unreg']\n",
    "results = pd.DataFrame(np.zeros((2,4)),columns=methods)\n",
    "\n",
    "fmroc = np.array([t[MROC] for t in eg_final_models])\n",
    "fpreds = [eg_final_preds[i] for i in np.argsort(fmroc)[-10:]]\n",
    "fscores = [roc_auc_score(ytest_holdout,p[:,0]) for p in fpreds]\n",
    "results['gini']=[np.mean(fscores),np.std(fscores)]\n",
    "\n",
    "\n",
    "fmroc = np.array([t[MROC] for t in l1_final_models])\n",
    "fpreds = [l1_final_preds[i] for i in np.argsort(fmroc)[-10:]]\n",
    "fscores = [roc_auc_score(ytest_holdout,p[:,0]) for p in fpreds]\n",
    "results['l1']=[np.mean(fscores),np.std(fscores)]\n",
    "\n",
    "fmroc = np.array([t[MROC] for t in sgl_final_models])\n",
    "fpreds = [sgl_final_preds[i] for i in np.argsort(fmroc)[-10:]]\n",
    "fscores = [roc_auc_score(ytest_holdout,p[:,0]) for p in fpreds]\n",
    "results['sgl']=[np.mean(fscores),np.std(fscores)]\n",
    "\n",
    "fmroc = np.array([t[MROC] for t in un_final_models])\n",
    "fpreds = [un_final_preds[i] for i in np.argsort(fmroc)[-10:]]\n",
    "fscores = [roc_auc_score(ytest_holdout,p[:,0]) for p in fpreds]\n",
    "results['unreg']=[np.mean(fscores),np.std(fscores)]"
   ]
  },
  {
   "cell_type": "markdown",
   "metadata": {},
   "source": [
    "The Sparse Attribution Prior yields sparser models, as indicated by the top plot where a greater fraction of the total feature importance is concentrated in the few top features. In addition, it exhibits better test performance, as seen in the bar plot of average AUC."
   ]
  },
  {
   "cell_type": "code",
   "execution_count": 10,
   "metadata": {},
   "outputs": [
    {
     "data": {
      "image/png": "[encoded data removed]",
      "text/plain": [
       "<Figure size 600x600 with 1 Axes>"
      ]
     },
     "metadata": {
      "needs_background": "light"
     },
     "output_type": "display_data"
    },
    {
     "data": {
      "image/png": "[encoded data removed]",
      "text/plain": [
       "<Figure size 600x600 with 1 Axes>"
      ]
     },
     "metadata": {
      "needs_background": "light"
     },
     "output_type": "display_data"
    }
   ],
   "source": [
    "plt.figure(dpi=150,figsize=(4,4))\n",
    "shap_cdf_plot(eg_results[eg_ind][MSHAP],label='Sparse Attribution Prior')\n",
    "shap_cdf_plot(l1_results[l1_ind][MSHAP],label='L1 - All Layers')\n",
    "shap_cdf_plot(sgl_results[sgl_ind][MSHAP],label='Sparse Group Lasso')\n",
    "plt.ylabel(\"Cumulative feature importance\")\n",
    "plt.xlabel(\"Features sorted  by importance\")\n",
    "plt.title(\"Sparse Attribution Prior yields sparser models\")\n",
    "plt.legend()\n",
    "\n",
    "plt.figure(dpi=150,figsize=(4,4))\n",
    "plt.bar(range(4),results.values[0,:],yerr=2*results.values[1,:]/np.sqrt(10))\n",
    "plt.xticks(range(4),['Sparse Attr Prior', 'L1', 'SGL', 'Unregularized'],rotation=30,ha='right')\n",
    "plt.ylim(0.7,0.783)\n",
    "plt.ylabel(\"ROC-AUC\")\n",
    "plt.title(\"Sparse Attribution Prior improves test performance\")\n",
    "plt.show();"
   ]
  },
  {
   "cell_type": "code",
   "execution_count": null,
   "metadata": {},
   "outputs": [],
   "source": []
  }
 ],
 "metadata": {
  "kernelspec": {
   "display_name": "Python 2",
   "language": "python",
   "name": "python2"
  },
  "language_info": {
   "codemirror_mode": {
    "name": "ipython",
    "version": 2
   },
   "file_extension": ".py",
   "mimetype": "text/x-python",
   "name": "python",
   "nbconvert_exporter": "python",
   "pygments_lexer": "ipython2",
   "version": "2.7.15rc1"
  }
 },
 "nbformat": 4,
 "nbformat_minor": 2
}
